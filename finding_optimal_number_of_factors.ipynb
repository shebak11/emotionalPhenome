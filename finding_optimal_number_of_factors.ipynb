{
 "cells": [
  {
   "cell_type": "code",
   "execution_count": null,
   "metadata": {},
   "outputs": [],
   "source": [
    "# http://scikit-learn.org/stable/auto_examples/decomposition/plot_pca_vs_fa_model_selection.html\n",
    "from sklearn.decomposition import PCA, FactorAnalysis\n",
    "from sklearn.covariance import ShrunkCovariance, LedoitWolf\n",
    "from sklearn.model_selection import cross_val_score\n",
    "from sklearn.model_selection import GridSearchCV\n",
    "\n",
    "n_components = np.arange(0, 50, 1)\n",
    "\n",
    "def compute_scores(X):\n",
    "    pca = PCA(svd_solver='full')\n",
    "    fa = FactorAnalysis()\n",
    "\n",
    "    pca_scores, fa_scores = [], []\n",
    "    for n in n_components:\n",
    "        if n % 10 == 0:\n",
    "            print(\"Running dimensionality reduction for {} components...\".format(n))\n",
    "        pca.n_components = n\n",
    "        fa.n_components = n\n",
    "        pca_scores.append(np.mean(cross_val_score(pca, X)))\n",
    "        fa_scores.append(np.mean(cross_val_score(fa, X)))\n",
    "\n",
    "    return pca_scores, fa_scores\n",
    "\n",
    "pca_scores, fa_scores = compute_scores(embeddings)\n",
    "n_components_pca = n_components[np.argmax(pca_scores)]\n",
    "n_components_fa = n_components[np.argmax(fa_scores)]\n",
    "\n",
    "pca = PCA(svd_solver='full', n_components='mle')\n",
    "pca.fit(embeddings)\n",
    "n_components_pca_mle = pca.n_components_\n",
    "\n",
    "print(\"best n_components by PCA CV = %d\" % n_components_pca)\n",
    "print(\"best n_components by FactorAnalysis CV = %d\" % n_components_fa)\n",
    "print(\"best n_components by PCA MLE = %d\" % n_components_pca_mle)"
   ]
  }
 ],
 "metadata": {
  "kernelspec": {
   "display_name": "Python [conda env:py35]",
   "language": "python",
   "name": "conda-env-py35-py"
  },
  "language_info": {
   "codemirror_mode": {
    "name": "ipython",
    "version": 3
   },
   "file_extension": ".py",
   "mimetype": "text/x-python",
   "name": "python",
   "nbconvert_exporter": "python",
   "pygments_lexer": "ipython3",
   "version": "3.5.2"
  }
 },
 "nbformat": 4,
 "nbformat_minor": 1
}
