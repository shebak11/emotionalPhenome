{
 "cells": [
  {
   "cell_type": "markdown",
   "metadata": {},
   "source": [
    "# RNN_Eval.pynb\n",
    "\n",
    "using PyTorch version  0.4.0\n",
    "\n",
    "This is the notebook that will be for evaluation an already trained model. If torchtext is giving you issues, you can comment out the import torchtext, as long as you have the embedding matrix \"index2word, word2index, embedding\" the vocab class can work even without torchtext\n"
   ]
  },
  {
   "cell_type": "code",
   "execution_count": 98,
   "metadata": {},
   "outputs": [
    {
     "name": "stdout",
     "output_type": "stream",
     "text": [
      "you are using PyTorch version  0.4.0\n",
      "no GPUs detected\n",
      "The autoreload extension is already loaded. To reload it, use:\n",
      "  %reload_ext autoreload\n"
     ]
    }
   ],
   "source": [
    "import pickle\n",
    "import random\n",
    "import numpy as np\n",
    "from re import split\n",
    "import matplotlib.pyplot as plt\n",
    "\n",
    "from carsonNLP.embedding import Vocabulary\n",
    "from carsonNLP.string_token_functions import *\n",
    "\n",
    "import torch\n",
    "import torch.nn as nn\n",
    "import torch.autograd as autograd\n",
    "from torch.autograd import Variable\n",
    "from torch import optim\n",
    "import torch.nn.functional as F\n",
    "\n",
    "print('you are using PyTorch version ',torch.__version__)\n",
    "\n",
    "if torch.cuda.is_available():\n",
    "    use_cuda = True\n",
    "    print('you have at least 1 GPU')\n",
    "else:\n",
    "    use_cuda = False\n",
    "    print('no GPUs detected')\n",
    "\n",
    "%load_ext autoreload\n",
    "%autoreload 2\n",
    "%matplotlib inline"
   ]
  },
  {
   "cell_type": "markdown",
   "metadata": {},
   "source": [
    "# Load the data\n",
    "\n",
    "Currently the data is stored in memory in dictionaries for the training validation and test set\n",
    "where the key is the class and the value is a list of all the strings corresponding to that class\n",
    "\n",
    "For the notebook that generates this dataset, see the data_preprocess folder and RS_to_data_dict.ipynb\n",
    "\n",
    "emotrvaltest9.p\n",
    "index of first validation sample -1100\n",
    "index of first test sample -1000\n",
    "addiction 71785\n",
    "anxiety 81293\n",
    "autism 28292\n",
    "bipolar 61506\n",
    "conversation 2118284\n",
    "depression 179615\n",
    "happy 50533\n",
    "jokes 538659\n",
    "schizophrenia 14137\n",
    "selfharm 73660\n",
    "\n",
    "Total = 3217764"
   ]
  },
  {
   "cell_type": "code",
   "execution_count": null,
   "metadata": {},
   "outputs": [],
   "source": [
    "#f = open( \"trvaltest/trvaltest_10cl_5-100words_v2.p\", \"rb\")\n",
    "f = open( \"trvaltest/emotrvaltest6.p\", \"rb\") # \n",
    "training_dict, validation_dict, test_dict, all_data, all_categories  \\\n",
    "= pickle.load(f, encoding=\"utf-8\")\n",
    "print(len(validation_dict['autism']))\n",
    "print(validation_dict['happy'][4])\n",
    "\n",
    "''' \n",
    "all_categories = ['addiction',\n",
    " 'anxiety',\n",
    " 'autism',\n",
    " 'bipolar',\n",
    " 'conversation',\n",
    " 'depression',\n",
    " 'happy',\n",
    " 'jokes',\n",
    " 'schizophrenia',\n",
    " 'selfharm']\n",
    "'''\n",
    "\n",
    "all_categories = ['addiction',\n",
    " 'anxiety',\n",
    " 'autism',\n",
    " 'bipolar',\n",
    " 'conversation',\n",
    " 'depression',\n",
    " 'happy',\n",
    " 'happy',\n",
    " 'schizophrenia',\n",
    " 'depression']\n",
    " \n"
   ]
  },
  {
   "cell_type": "markdown",
   "metadata": {},
   "source": [
    "## index2word, word2index, embedding\n",
    "Load the word embedding and the dictionaries for converting back and forth between the word as a string and it's index, the index2word has 4 more indices in it than the word2index because index2word has these extra tokens:\n",
    "\n",
    "1. padding extra space, PAD, indexed at 0\n",
    "2. start of sentence, SOS, indexed at 1\n",
    "3. end of sentence, EOS, indexed at 2\n",
    "4. unknown token, UNK, indexed at 3\n",
    "\n",
    "To understand how the Vocabulary() class generates these embeddings and determine our vocabulary, see embedding.ipynb, to make a new set of index2word, word2index and embedding run this (requires torchtext):\n",
    "\n",
    "`\n",
    "glove = vocab.GloVe(name='6B', dim=100) # available in 100\n",
    "print('Loaded {} words'.format(len(glove.itos)))\n",
    "vocabClass = Vocabulary()\n",
    "min_word_count = 5\n",
    "path_to_folder_of_text = 'subreddit_posts'\n",
    "index2word, word2index, embedding = vocabClass.makeEmbedding(min_word_count, glove, path_to_folder_of_text)\n",
    "dicts_embed = (index2word, word2index, embedding)\n",
    "pickle.dump(dicts_embed, open(\"embeddings/dicts_embed.p\", \"wb\" ) )\n",
    "`"
   ]
  },
  {
   "cell_type": "code",
   "execution_count": 87,
   "metadata": {
    "collapsed": true
   },
   "outputs": [],
   "source": [
    "index2word, word2index, embedding  = pickle.load( open( \"embeddings/dicts_embed_min40_folder4.p\", \"rb\" ) )\n",
    "vocabClass = Vocabulary()\n",
    "vocabClass.index2word = index2word\n",
    "vocabClass.word2index = word2index"
   ]
  },
  {
   "cell_type": "code",
   "execution_count": 20,
   "metadata": {
    "scrolled": true
   },
   "outputs": [
    {
     "data": {
      "text/plain": [
       "9754"
      ]
     },
     "execution_count": 20,
     "metadata": {},
     "output_type": "execute_result"
    }
   ],
   "source": [
    "vocabClass.word2index[\"youre\"]"
   ]
  },
  {
   "cell_type": "markdown",
   "metadata": {},
   "source": [
    "## Functions that support Training\n",
    "\n",
    "Before we get started training lets go over some of the functions we will import to assist with the training process. If you look below at a few of the training / validation sentences you can see that in the raw data we have not yet made all the words lowercase and we have not added a space between the last word and the ending punctuation, ie 'Home?' should be 'home ?' so that 'home' and '?' are recognized as 2 separate tokens rather than the UNK token. "
   ]
  },
  {
   "cell_type": "code",
   "execution_count": 30,
   "metadata": {},
   "outputs": [
    {
     "name": "stdout",
     "output_type": "stream",
     "text": [
      "n_categories = 10\n",
      "example of category:  anxiety\n",
      "so , it sounds like a good idea in theory , but i dont know if i will be able to stick to it . anyone else tried cutting back their screen time ? would be curious to know if it improved your life or if you have any advice for someone trying to cut back . thanks !\n",
      "['addiction', 'anxiety', 'autism', 'bipolar', 'conversation', 'depression', 'happy', 'jokes', 'schizophrenia', 'selfharm']\n"
     ]
    },
    {
     "data": {
      "text/plain": [
       "19479"
      ]
     },
     "execution_count": 30,
     "metadata": {},
     "output_type": "execute_result"
    }
   ],
   "source": [
    "n_categories = len(all_categories)\n",
    "print('n_categories =', n_categories)\n",
    "category = random.choice(all_categories)\n",
    "print('example of category: ',category)\n",
    "print(validation_dict[category][0])\n",
    "print(all_categories)\n",
    "vocabClass.word2index['thats']"
   ]
  },
  {
   "cell_type": "code",
   "execution_count": 22,
   "metadata": {
    "collapsed": true
   },
   "outputs": [],
   "source": [
    "class Attn(nn.Module):\n",
    "    def __init__(self, hidden_size):\n",
    "        super(Attn, self).__init__()\n",
    "        \n",
    "        #self.fc1 = nn.Linear(hidden_size, hidden_size)\n",
    "        \n",
    "        self.fc1 = nn.Sequential(\n",
    "                       nn.Linear(hidden_size*2, hidden_size),\n",
    "                       #nn.BatchNorm1d(num_features=1), # NEW\n",
    "                       nn.PReLU(),\n",
    "                       nn.Linear(hidden_size, 1)\n",
    "                    )\n",
    "\n",
    "    def forward(self, hidden, encoder_outputs):\n",
    "        seq_len = encoder_outputs.size(0)\n",
    "        this_batch_size = encoder_outputs.size(1)\n",
    "        # print(' hidden.size(), encoder_outputs.size()', hidden.size(), encoder_outputs.size()) \n",
    "        # torch.Size([batch_size, hidden_size]) torch.Size([seq_len, batch_size, hidden_size])\n",
    "        # Create variable to store attention energies\n",
    "        attn_energies = Variable(torch.zeros(this_batch_size, seq_len)) # B x S\n",
    "\n",
    "        if use_cuda:\n",
    "            attn_energies = attn_energies.cuda()\n",
    "\n",
    "        # For each batch of encoder outputs\n",
    "        for b in range(this_batch_size):\n",
    "            # Calculate energy for each encoder output\n",
    "            for i in range(seq_len):\n",
    "                #attn_energies[b, i] = self.score(hidden[:, b], encoder_outputs[i, b].unsqueeze(0))\n",
    "                attn_energies[b, i] = self.score(hidden[b], encoder_outputs[i, b])\n",
    "\n",
    "        attn_weights = F.softmax(attn_energies,dim=1).unsqueeze(1) # batch_size,1,seq_len\n",
    "        \n",
    "        return attn_weights \n",
    "    \n",
    "    def score(self, hidden, encoder_output):\n",
    "        #print(hidden.size(), encoder_output.size())\n",
    "        #concat = torch.cat((hidden, encoder_output), 1)\n",
    "        concat = torch.cat((hidden, encoder_output))\n",
    "        energy = self.fc1(concat)\n",
    "        return energy\n",
    "        "
   ]
  },
  {
   "cell_type": "code",
   "execution_count": 88,
   "metadata": {
    "collapsed": true
   },
   "outputs": [],
   "source": [
    "class RNN(nn.Module):\n",
    "    \n",
    "    def __init__(self, hidden_size, embedding, output_size, num_layers = 3, bidirectional = False, \n",
    "                 train_embedding = True , dropout = 0.0):\n",
    "        \n",
    "        super(RNN, self).__init__()\n",
    "        \n",
    "        self.hidden_size = hidden_size\n",
    "        self.num_layers = num_layers\n",
    "        self.bidirectional = bidirectional\n",
    "        self.dropout = nn.Dropout(p=dropout) # p – probability of an element to be zeroed. Default: 0.5\n",
    "        \n",
    "        embedding = torch.from_numpy(embedding).float()\n",
    "        \n",
    "        if use_cuda:\n",
    "            embedding.cuda()\n",
    "        \n",
    "        self.embedding = nn.Embedding(embedding.shape[0], embedding.shape[1])\n",
    "        self.embedding.weight = nn.Parameter(embedding, requires_grad=train_embedding)\n",
    "        self.gru = nn.GRU(embedding.shape[1], hidden_size, num_layers, \n",
    "                          bidirectional=bidirectional, dropout = dropout)\n",
    "        \n",
    "        if bidirectional:\n",
    "            num_directions = 2\n",
    "        else:\n",
    "            num_directions = 1\n",
    "        \n",
    "        # make the initial hidden state learnable as well \n",
    "        hidden0 = torch.zeros(self.num_layers*num_directions, 1, self.hidden_size)\n",
    "        self.hidden0 = nn.Parameter(hidden0, requires_grad=True)\n",
    "        \n",
    "        self.num_cells = num_layers*num_directions\n",
    "        \n",
    "        self.fc_concat = nn.Sequential(\n",
    "                             nn.Linear(hidden_size * 2, hidden_size),\n",
    "                             nn.BatchNorm1d(num_features=self.hidden_size)\n",
    "                             ) \n",
    "        \n",
    "        self.fc1 = nn.Sequential(\n",
    "                       nn.Linear(self.hidden_size,self.hidden_size),\n",
    "                       nn.BatchNorm1d(num_features=self.hidden_size),\n",
    "                       )\n",
    "        \n",
    "        self.out = nn.Linear(hidden_size,output_size)\n",
    "        self.prelu = nn.PReLU()\n",
    "        self.attn = Attn(hidden_size)\n",
    "\n",
    "    def forward(self, input_seqs):\n",
    "        \n",
    "        batch_size = input_seqs.size(1)\n",
    "        hidden = self.hidden0.repeat(1, batch_size, 1)\n",
    "        self.embedded = self.embedding(input_seqs)\n",
    "        encoder_outputs, last_seq_hidden = self.gru(self.embedded, hidden)\n",
    "        last_hidden = last_seq_hidden[-1] \n",
    "        \n",
    "        attn_weights = self.attn(last_hidden, encoder_outputs) #  batch_size,1,seq_len\n",
    "        \n",
    "        # output of GRU (seq_len, batch_size, hidden_size) -> (batch_size, seq_len, hidden_size)\n",
    "        encoder_outputs_bsh = encoder_outputs.transpose(0, 1)\n",
    "        \n",
    "        # bmm does operation (b,1,s).bmm(b,s,h) = (b,1,h)\n",
    "        context = torch.bmm(attn_weights,encoder_outputs_bsh) # should be  # B x S=1 x N\n",
    "        \n",
    "        # Attentional vector using the RNN hidden state and context vector concatenated together \n",
    "        context = context.squeeze(1)       # B x S=1 x H -> Batch Size x Hidden Size\n",
    "        concat_input = torch.cat((last_hidden, context), 1) # both should be batch_size x hidden_size\n",
    "        \n",
    "        concat_output = F.tanh(self.fc_concat(concat_input)) # <hidden_size>\n",
    "\n",
    "        fc1 = self.fc1(concat_output)\n",
    "\n",
    "        output = self.out(self.dropout(fc1))\n",
    "        #output = self.out(self.dropout(self.prelu(fc1)))\n",
    "        \n",
    "        return output, fc1 , attn_weights"
   ]
  },
  {
   "cell_type": "markdown",
   "metadata": {},
   "source": [
    "## trained models"
   ]
  },
  {
   "cell_type": "code",
   "execution_count": 89,
   "metadata": {
    "collapsed": true
   },
   "outputs": [],
   "source": [
    "n_hidden = 256\n",
    "num_layers = 3\n",
    "bidirectional = False\n",
    "\n",
    "rnn = RNN( n_hidden, embedding, n_categories, num_layers = num_layers, \n",
    "          bidirectional = bidirectional, dropout = 0.2)\n",
    "\n",
    "criterion = nn.CrossEntropyLoss()\n",
    "\n",
    "if use_cuda:\n",
    "    rnn = rnn.cuda()\n",
    "\n",
    "name = 'trvaltest_10cl_5-100w_embed_min40_v3_'+str(n_hidden)+'_'+str(num_layers)\n"
   ]
  },
  {
   "cell_type": "code",
   "execution_count": 90,
   "metadata": {
    "collapsed": true
   },
   "outputs": [],
   "source": [
    "def eval_validation(vocabClass):\n",
    "    rnn.train(False)\n",
    "    count = 0\n",
    "    total_loss = 0\n",
    "    total_correct = 0\n",
    "    \n",
    "    for category in validation_dict.keys():\n",
    "        category_tensor = Variable(torch.LongTensor([all_categories.index(category)]))\n",
    "        if use_cuda:\n",
    "            category_tensor = category_tensor.cuda()\n",
    "        for line in validation_dict[category]:\n",
    "            line_tensor = Variable(torch.LongTensor(indexesFromSentence(vocabClass, line))).view(-1,1)\n",
    "            #print(line_tensor.size())\n",
    "            if use_cuda:\n",
    "                line_tensor = line_tensor.cuda()\n",
    "            output, vector_rep, attn_wts = rnn(line_tensor)\n",
    "            loss = criterion(output, category_tensor)\n",
    "            total_loss += loss\n",
    "            count += 1\n",
    "            topv, topi = output.data.topk(1, 1, True)\n",
    "            category_index = topi[0][0]\n",
    "            if category == all_categories[category_index]:\n",
    "                total_correct += 1\n",
    "                \n",
    "    avg_loss = float(total_loss)/count\n",
    "    accuracy = float(total_correct)/count\n",
    "    \n",
    "    return avg_loss, accuracy\n",
    "\n",
    "def predict_line(line, vocabClass, rnn):\n",
    "        line_tensor = Variable(torch.LongTensor(indexesFromSentence(vocabClass, line))).view(-1,1)\n",
    "        if use_cuda:\n",
    "            line_tensor = line_tensor.cuda()\n",
    "        rnn.train(False)\n",
    "        output, rep, attn_wts = rnn(line_tensor)\n",
    "        guess, guess_i = category_from_output(output)\n",
    "        return guess, output, attn_wts"
   ]
  },
  {
   "cell_type": "code",
   "execution_count": 93,
   "metadata": {},
   "outputs": [
    {
     "name": "stdout",
     "output_type": "stream",
     "text": [
      "avg_val_loss 0.8419 ,  val_accuracy 0.8000\n"
     ]
    }
   ],
   "source": [
    "#name = 'trvaltest_10cl_5-100w_embed_min40_'+str(n_hidden)+'_'+str(num_layers)\n",
    "#name = 'trvaltest_10cl_5-100w_embed_min40_v3_'+str(n_hidden)+'_'+str(num_layers)\n",
    "\n",
    "rnn.load_state_dict(torch.load(\"modelstate/\"+name+\"_cpu.pth\"))\n",
    "avg_val_loss, val_accuracy = eval_validation(vocabClass)\n",
    "print('avg_val_loss %.4f ,  val_accuracy %.4f' % (avg_val_loss, val_accuracy))\n",
    "\n",
    "#save_model(rnn,name)\n",
    "#name = 'tvt10_8cl_em0_'+str(n_hidden)+'_'+str(num_layers)"
   ]
  },
  {
   "cell_type": "markdown",
   "metadata": {},
   "source": [
    "## Evaluation"
   ]
  },
  {
   "cell_type": "code",
   "execution_count": 94,
   "metadata": {},
   "outputs": [
    {
     "name": "stderr",
     "output_type": "stream",
     "text": [
      "/anaconda/anaconda3/lib/python3.6/site-packages/matplotlib/cbook/deprecation.py:106: MatplotlibDeprecationWarning: Adding an axes using the same arguments as a previous axes currently reuses the earlier instance.  In a future version, a new instance will always be created and returned.  Meanwhile, this warning can be suppressed, and the future behavior ensured, by passing a unique label to each axes instance.\n",
      "  warnings.warn(message, mplDeprecation, stacklevel=1)\n"
     ]
    },
    {
     "data": {
      "image/png": "[encoded data removed]",
      "text/plain": [
       "<matplotlib.figure.Figure at 0x1315b87b8>"
      ]
     },
     "metadata": {},
     "output_type": "display_data"
    }
   ],
   "source": [
    "def category_from_output(output):\n",
    "    top_n, top_i = output.data.topk(1) # Tensor out of Variable with .data\n",
    "    category_i = top_i[0][0]\n",
    "    return all_categories[category_i], category_i\n",
    "\n",
    "def random_training_pair(category_lines):                                                                                                               \n",
    "    category = random.choice(all_categories)\n",
    "    line = random.choice(category_lines[category])\n",
    "    category_tensor = Variable(torch.LongTensor([all_categories.index(category)]))\n",
    "    line_tensor = Variable(torch.LongTensor(indexesFromSentence(vocabClass, line))).view(-1,1)\n",
    "    if use_cuda:\n",
    "        line_tensor = line_tensor.cuda()\n",
    "        category_tensor = category_tensor.cuda()\n",
    "    return category, line, category_tensor, line_tensor\n",
    "\n",
    "# Keep track of correct guesses in a confusion matrix\n",
    "confusion = torch.zeros(n_categories, n_categories)\n",
    "n_confusion = 1000\n",
    "\n",
    "# Just return an output given a line\n",
    "def evaluate(line_tensor):\n",
    "    rnn.train(False)\n",
    "    output, rep, attn_wts = rnn(line_tensor)\n",
    "    \n",
    "    return output\n",
    "\n",
    "# Go through a bunch of examples and record which are correctly guessed\n",
    "for i in range(n_confusion):\n",
    "    category, line, category_tensor, line_tensor = random_training_pair(test_dict)\n",
    "    output = evaluate(line_tensor)\n",
    "    guess, guess_i = category_from_output(output)\n",
    "    category_i = all_categories.index(category)\n",
    "    confusion[category_i][guess_i] += 1\n",
    "\n",
    "# Normalize by dividing every row by its sum\n",
    "for i in range(n_categories):\n",
    "    confusion[i] = confusion[i] / confusion[i].sum()\n",
    "\n",
    "# Set up plot\n",
    "fig = plt.figure()\n",
    "plt.rcParams['figure.figsize'] = [12,12]\n",
    "plt.rcParams['axes.labelsize'] = 'large'\n",
    "plt.rcParams['xtick.labelsize']=18\n",
    "plt.rcParams['ytick.labelsize']=18\n",
    "plt.xlabel('Prediction', fontsize=25)\n",
    "plt.ylabel('Truth', fontsize=25)\n",
    "ax = fig.add_subplot(111)\n",
    "cax = ax.matshow(confusion.numpy())\n",
    "fig.colorbar(cax)\n",
    "\n",
    "# Set up axes\n",
    "ax.set_xticklabels([''] + all_categories, rotation=90)\n",
    "ax.set_yticklabels([''] + all_categories)\n",
    "\n",
    "# Force label at every tick\n",
    "ax.xaxis.set_major_locator(ticker.MultipleLocator(1))\n",
    "ax.yaxis.set_major_locator(ticker.MultipleLocator(1))\n",
    "\n",
    "plt.show()\n",
    "\n",
    "# Confusion Matrix: actual language (rows) which language the network guesses (columns)\n",
    "\n",
    "#fig.savefig(\"confusionMatrix.png\")"
   ]
  },
  {
   "cell_type": "code",
   "execution_count": 95,
   "metadata": {
    "collapsed": true
   },
   "outputs": [],
   "source": [
    "def eval_dic(vocabClass, dic):\n",
    "    \n",
    "    group1 = [\"selfharm\",\"depression\"]\n",
    "    group2 = [\"jokes\",\"happy\",\"conversation\"]\n",
    "    \n",
    "    rnn.train(False)\n",
    "    count = 0\n",
    "    total_loss = 0\n",
    "    total_correct = 0\n",
    "    \n",
    "    for category in dic.keys():\n",
    "        category_tensor = Variable(torch.LongTensor([all_categories.index(category)]))\n",
    "        if use_cuda:\n",
    "            category_tensor = category_tensor.cuda()\n",
    "        for line in dic[category]:\n",
    "            line_tensor = Variable(torch.LongTensor(indexesFromSentence(vocabClass, line))).view(-1,1)\n",
    "\n",
    "            if use_cuda:\n",
    "                line_tensor = line_tensor.cuda()\n",
    "            output, vector_rep, attn_wts = rnn(line_tensor)\n",
    "            loss = criterion(output, category_tensor)\n",
    "            total_loss += loss\n",
    "            count += 1\n",
    "            topv, topi = output.data.topk(1, 1, True)\n",
    "            category_index = topi[0][0]\n",
    "            if category == all_categories[category_index]:\n",
    "                total_correct += 1\n",
    "            elif category in group1 and all_categories[category_index] in group1:\n",
    "                total_correct += 1\n",
    "            elif category in group2 and all_categories[category_index] in group2:\n",
    "                total_correct += 1\n",
    "                \n",
    "    avg_loss = float(total_loss)/count\n",
    "    accuracy = float(total_correct)/count\n",
    "    \n",
    "    return avg_loss, accuracy\n",
    "\n"
   ]
  },
  {
   "cell_type": "code",
   "execution_count": 96,
   "metadata": {},
   "outputs": [
    {
     "name": "stdout",
     "output_type": "stream",
     "text": [
      "avg_val_loss 0.8419 ,  accuracy 0.8031\n"
     ]
    }
   ],
   "source": [
    "avg_loss, accuracy = eval_dic(vocabClass, validation_dict)\n",
    "print('avg_val_loss %.4f ,  accuracy %.4f' % (avg_loss, accuracy)) "
   ]
  },
  {
   "cell_type": "code",
   "execution_count": 97,
   "metadata": {
    "scrolled": true
   },
   "outputs": [
    {
     "name": "stdout",
     "output_type": "stream",
     "text": [
      "depression\n",
      "[[  0.09525456   3.9678907   -5.45373      4.5288687   -1.0028174\n",
      "    7.5918245    6.839463   -17.63648      0.5544319  -16.252825  ]]\n",
      "[[[0.00522906 0.09384891 0.01608145 0.13845247 0.69376314 0.01241701\n",
      "   0.00544407 0.02326413 0.01149972]]]\n",
      "i havent been feeling optimistic now for awhile\n"
     ]
    }
   ],
   "source": [
    "\n",
    "string = \" I havent been feeling optimistic now for awhile \" \n",
    "\n",
    "prediction, output, attention_weights = predict_line(string, vocabClass, rnn)\n",
    "\n",
    "print(prediction)\n",
    "print(output.cpu().detach().numpy())\n",
    "print(attention_weights.cpu().detach().numpy())\n",
    "print(vocabClass.normalize_string(string))\n"
   ]
  },
  {
   "cell_type": "code",
   "execution_count": 99,
   "metadata": {
    "collapsed": true
   },
   "outputs": [],
   "source": [
    "bg_white_to_red_grad = plt.cm.get_cmap(name='Reds')\n",
    "\n",
    "def turn_attn_weight_into_color(weight, tmp_cmap):\n",
    "    color_indx = int(255 * weight)\n",
    "    r, g, b, alpha = [int(255 * tmp_cmap(color_indx)[i]) for i in range(4)]\n",
    "    return(r, g, b)\n",
    "\n",
    "def get_word_with_rgb(word, r, g, b):\n",
    "    esc = \"\\x1b[\"\n",
    "    txt_style = \"2;\"  # Text style (\"1\" is bold, \"2\" is not bold)\n",
    "    toggle_bg = \"48;2;\"  # Switch to toggle background color (38;2; is foreground color)\n",
    "    r = str(r)  # Red\n",
    "    g = str(g)  # Green\n",
    "    b = str(b)  # Blue\n",
    "    ansi_code = esc + txt_style + toggle_bg + r + \";\" + g + \";\" + b + \"m\"\n",
    "    return(\"%s%s\" % (ansi_code, word))"
   ]
  },
  {
   "cell_type": "code",
   "execution_count": 166,
   "metadata": {
    "collapsed": true
   },
   "outputs": [],
   "source": [
    "def predict_line(line, vocabClass, rnn):\n",
    "        op_txt = ''\n",
    "        my_cmap = plt.cm.get_cmap(name='Reds')\n",
    "        tokens = split(' ', vocabClass.normalize_string(line))\n",
    "        line_tensor = Variable(torch.LongTensor(indexesFromSentence(vocabClass, line))).view(-1,1)\n",
    "        if use_cuda:\n",
    "            line_tensor = line_tensor.cuda()\n",
    "        output, rep, attn_wts = rnn(line_tensor)\n",
    "        attn_weights = attn_wts.cpu().detach().numpy()[0][0][:-1]\n",
    "        attn_weights = np.clip(attn_weights,0.0,2*np.mean(attn_weights))\n",
    "        attn_weights /= np.sum(attn_weights)\n",
    "        #print(attn_weights)\n",
    "        guess, guess_i = category_from_output(output)\n",
    "        for word_indx, word in enumerate(tokens):\n",
    "            r, g, b = turn_attn_weight_into_color(attn_weights[word_indx], my_cmap)\n",
    "            op_txt += get_word_with_rgb(word, r, g, b) + ' '\n",
    "        # Note that we have to explicitly set the normal background to plain ol' white\n",
    "        print('prediction: ', guess)\n",
    "        print(op_txt + '\\n')\n",
    "        \n",
    "        return guess, output, attn_wts\n"
   ]
  },
  {
   "cell_type": "code",
   "execution_count": 169,
   "metadata": {},
   "outputs": [
    {
     "name": "stdout",
     "output_type": "stream",
     "text": [
      "prediction:  depression\n",
      "\u001b[2;48;2;254;243;238mi \u001b[2;48;2;253;213;195mhavent \u001b[2;48;2;254;240;233mbeen \u001b[2;48;2;252;190;165mfeeling \u001b[2;48;2;251;125;93moptimistic \u001b[2;48;2;254;238;230mfor \u001b[2;48;2;254;235;226mawhile \u001b[2;48;2;254;241;234mnow \n",
      "\n"
     ]
    }
   ],
   "source": [
    "string = \" I havent been feeling optimistic for awhile now\" \n",
    "\n",
    "prediction, output, attention_weights = predict_line(string, vocabClass, rnn)"
   ]
  },
  {
   "cell_type": "code",
   "execution_count": 170,
   "metadata": {
    "scrolled": true
   },
   "outputs": [
    {
     "name": "stdout",
     "output_type": "stream",
     "text": [
      "prediction:  happy\n",
      "\u001b[2;48;2;254;241;235mi \u001b[2;48;2;254;243;238mhave \u001b[2;48;2;254;240;233mbeen \u001b[2;48;2;252;204;183mfeeling \u001b[2;48;2;254;231;221mmore \u001b[2;48;2;237;57;43moptimistic \u001b[2;48;2;254;240;233mrecently \n",
      "\n"
     ]
    }
   ],
   "source": [
    "string = \" I have been feeling more optimistic recently\" \n",
    "\n",
    "prediction, output, attention_weights = predict_line(string, vocabClass, rnn)"
   ]
  },
  {
   "cell_type": "code",
   "execution_count": 173,
   "metadata": {
    "scrolled": false
   },
   "outputs": [
    {
     "name": "stdout",
     "output_type": "stream",
     "text": [
      "prediction:  schizophrenia\n",
      "\u001b[2;48;2;255;245;240mthe \u001b[2;48;2;254;228;216mvoices \u001b[2;48;2;252;204;183mtell \u001b[2;48;2;252;202;182mme \u001b[2;48;2;253;214;197mto \u001b[2;48;2;252;168;139mburn \u001b[2;48;2;254;237;229mthings \n",
      "\n"
     ]
    }
   ],
   "source": [
    "string = \"the voices tell me to burn things\" \n",
    "\n",
    "prediction, output, attention_weights = predict_line(string, vocabClass, rnn)"
   ]
  },
  {
   "cell_type": "code",
   "execution_count": 174,
   "metadata": {},
   "outputs": [
    {
     "name": "stdout",
     "output_type": "stream",
     "text": [
      "prediction:  conversation\n",
      "\u001b[2;48;2;254;241;235mdid \u001b[2;48;2;254;243;238myou \u001b[2;48;2;254;242;236mhear \u001b[2;48;2;252;155;125msandy \u001b[2;48;2;253;223;209mbroke \u001b[2;48;2;254;238;230mup \u001b[2;48;2;254;241;234mwith \u001b[2;48;2;252;155;125mtim \u001b[2;48;2;254;235;226m? \n",
      "\n"
     ]
    }
   ],
   "source": [
    "string = \"did you hear Sandy broke up with Tim?\" \n",
    "\n",
    "prediction, output, attention_weights = predict_line(string, vocabClass, rnn)"
   ]
  },
  {
   "cell_type": "code",
   "execution_count": 175,
   "metadata": {},
   "outputs": [
    {
     "name": "stdout",
     "output_type": "stream",
     "text": [
      "prediction:  anxiety\n",
      "\u001b[2;48;2;254;238;230mmy \u001b[2;48;2;253;206;186mheart \u001b[2;48;2;254;236;227mis \u001b[2;48;2;253;219;203mbeating \u001b[2;48;2;254;239;231mso \u001b[2;48;2;254;241;234mfast \u001b[2;48;2;254;237;229mi \u001b[2;48;2;253;206;186mfeel \u001b[2;48;2;254;235;225mlike \u001b[2;48;2;254;234;224mi \u001b[2;48;2;254;237;228mwill \u001b[2;48;2;254;233;224mfreese \u001b[2;48;2;254;241;235mup \u001b[2;48;2;254;242;236mtomorrow \n",
      "\n"
     ]
    }
   ],
   "source": [
    "string = \"My heart is beating so fast I feel like I will freese up tomorrow\" \n",
    "\n",
    "prediction, output, attention_weights = predict_line(string, vocabClass, rnn)"
   ]
  }
 ],
 "metadata": {
  "kernelspec": {
   "display_name": "Python 3",
   "language": "python",
   "name": "python3"
  },
  "language_info": {
   "codemirror_mode": {
    "name": "ipython",
    "version": 3
   },
   "file_extension": ".py",
   "mimetype": "text/x-python",
   "name": "python",
   "nbconvert_exporter": "python",
   "pygments_lexer": "ipython3",
   "version": "3.6.5"
  }
 },
 "nbformat": 4,
 "nbformat_minor": 2
}
