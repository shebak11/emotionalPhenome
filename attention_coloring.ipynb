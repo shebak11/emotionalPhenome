{
 "cells": [
  {
   "cell_type": "code",
   "execution_count": 1,
   "metadata": {},
   "outputs": [],
   "source": [
    "import pickle\n",
    "import numpy as np\n",
    "from re import split\n",
    "import matplotlib.pyplot as plt"
   ]
  },
  {
   "cell_type": "code",
   "execution_count": 2,
   "metadata": {},
   "outputs": [],
   "source": [
    "data = pickle.load(open(\"data/emotype_v12.p\", \"rb\" ))"
   ]
  },
  {
   "cell_type": "markdown",
   "metadata": {},
   "source": [
    "## First, we'll explore the idea of color gradients in matplotlib"
   ]
  },
  {
   "cell_type": "code",
   "execution_count": 3,
   "metadata": {},
   "outputs": [
    {
     "name": "stdout",
     "output_type": "stream",
     "text": [
      "(1.0, 0.9607843137254902, 0.9411764705882353, 1.0)\n",
      "(0.9998769703960015, 0.9582006920415225, 0.9374855824682814, 1.0)\n",
      "(0.4115494040753557, 0.0018454440599769348, 0.05196462898885043, 1.0)\n",
      "(0.403921568627451, 0.0, 0.05098039215686274, 1.0)\n",
      "(0.403921568627451, 0.0, 0.05098039215686274, 1.0)\n"
     ]
    }
   ],
   "source": [
    "# Input goes from 0 to 255, with 0 as \n",
    "# Checkout https://matplotlib.org/users/colormaps.html for other color maps\n",
    "# e.g. bg_blue_to_red_grad = plt.cm.get_cmap(name='bwr') for blue to red gradient\n",
    "bg_white_to_red_grad = plt.cm.get_cmap(name='Reds')\n",
    "print(bg_white_to_red_grad(0))   # Prints (R, G, B, alpha_transparency)\n",
    "print(bg_white_to_red_grad(1))\n",
    "# ...\n",
    "print(bg_white_to_red_grad(254))\n",
    "print(bg_white_to_red_grad(255))\n",
    "print(bg_white_to_red_grad(256))  # Note that there's no change from 255 to 256"
   ]
  },
  {
   "cell_type": "markdown",
   "metadata": {},
   "source": [
    "## Note that we can extract the (R, G, B) values for a specific point along the color gradient using the following function:"
   ]
  },
  {
   "cell_type": "code",
   "execution_count": 4,
   "metadata": {},
   "outputs": [],
   "source": [
    "# We can extract the red, green, and blue values specifically\n",
    "# e.g. for the last value in the gradient\n",
    "def turn_attn_weight_into_color(weight, tmp_cmap):\n",
    "    color_indx = int(255 * weight)\n",
    "    r, g, b, alpha = [int(255 * tmp_cmap(color_indx)[i]) for i in range(4)]\n",
    "    return(r, g, b)"
   ]
  },
  {
   "cell_type": "code",
   "execution_count": 5,
   "metadata": {},
   "outputs": [
    {
     "name": "stdout",
     "output_type": "stream",
     "text": [
      "251 106 74\n"
     ]
    }
   ],
   "source": [
    "r, g, b = turn_attn_weight_into_color(0.5, bg_white_to_red_grad)\n",
    "print(r, g, b)"
   ]
  },
  {
   "cell_type": "markdown",
   "metadata": {},
   "source": [
    "## Finally, we just have to work some magic with ANSI Escape codes and voila!"
   ]
  },
  {
   "cell_type": "code",
   "execution_count": 6,
   "metadata": {},
   "outputs": [],
   "source": [
    "# https://en.wikipedia.org/wiki/ANSI_escape_code\n",
    "# See section on \"Colors\", specifically \"24-bit\"\n",
    "# ESC[ … 38;2;<r>;<g>;<b> … m Select RGB foreground color\n",
    "# ESC[ … 48;2;<r>;<g>;<b> … m Select RGB background color\n",
    "\n",
    "def get_word_with_rgb(word, r, g, b):\n",
    "    esc = \"\\x1b[\"\n",
    "    txt_style = \"2;\"  # Text style (\"1\" is bold, \"2\" is not bold)\n",
    "    toggle_bg = \"48;2;\"  # Switch to toggle background color (38;2; is foreground color)\n",
    "    r = str(r)  # Red\n",
    "    g = str(g)  # Green\n",
    "    b = str(b)  # Blue\n",
    "    ansi_code = esc + txt_style + toggle_bg + r + \";\" + g + \";\" + b + \"m\"\n",
    "    return(\"%s%s\" % (ansi_code, word))"
   ]
  },
  {
   "cell_type": "code",
   "execution_count": 7,
   "metadata": {},
   "outputs": [
    {
     "data": {
      "text/plain": [
       "'\\x1b[2;48;2;251;106;74mhello'"
      ]
     },
     "execution_count": 7,
     "metadata": {},
     "output_type": "execute_result"
    }
   ],
   "source": [
    "get_word_with_rgb(\"hello\", r, g, b)"
   ]
  },
  {
   "cell_type": "code",
   "execution_count": 8,
   "metadata": {},
   "outputs": [
    {
     "name": "stdout",
     "output_type": "stream",
     "text": [
      "\u001b[2;48;2;251;106;74mhello\n"
     ]
    }
   ],
   "source": [
    "print(get_word_with_rgb(\"hello\", r, g, b))"
   ]
  },
  {
   "cell_type": "markdown",
   "metadata": {},
   "source": [
    "## Now, turning attention weights into highlights"
   ]
  },
  {
   "cell_type": "markdown",
   "metadata": {},
   "source": [
    "### NOTE: There's a problem where the number of text tokens doesn't match the length of attention weights vector. That's causing some contextual issues where the colored attention doesn't exactly match the word it's ascribed to."
   ]
  },
  {
   "cell_type": "code",
   "execution_count": 9,
   "metadata": {
    "scrolled": true
   },
   "outputs": [
    {
     "data": {
      "text/plain": [
       "(1, 1, 28)"
      ]
     },
     "execution_count": 9,
     "metadata": {},
     "output_type": "execute_result"
    }
   ],
   "source": [
    "data[0]['attention_weights'].shape"
   ]
  },
  {
   "cell_type": "code",
   "execution_count": 10,
   "metadata": {},
   "outputs": [
    {
     "data": {
      "text/plain": [
       "32"
      ]
     },
     "execution_count": 10,
     "metadata": {},
     "output_type": "execute_result"
    }
   ],
   "source": [
    "len(split(' ', data[0]['text_tokens']))"
   ]
  },
  {
   "cell_type": "code",
   "execution_count": 11,
   "metadata": {},
   "outputs": [
    {
     "data": {
      "text/plain": [
       "(1, 1, 23)"
      ]
     },
     "execution_count": 11,
     "metadata": {},
     "output_type": "execute_result"
    }
   ],
   "source": [
    "data[2]['attention_weights'].shape"
   ]
  },
  {
   "cell_type": "code",
   "execution_count": 12,
   "metadata": {},
   "outputs": [
    {
     "data": {
      "text/plain": [
       "24"
      ]
     },
     "execution_count": 12,
     "metadata": {},
     "output_type": "execute_result"
    }
   ],
   "source": [
    "len(split(' ', data[2]['text_tokens']))"
   ]
  },
  {
   "cell_type": "markdown",
   "metadata": {},
   "source": [
    "### Proceeding regardless for the purpose of demonstration..."
   ]
  },
  {
   "cell_type": "code",
   "execution_count": 15,
   "metadata": {},
   "outputs": [
    {
     "data": {
      "text/plain": [
       "dict_keys(['text', 'attention_weights', 'prediction', 'label', 'outputs', 'text_tokens', 'encoding'])"
      ]
     },
     "execution_count": 15,
     "metadata": {},
     "output_type": "execute_result"
    }
   ],
   "source": [
    "data[0].keys()"
   ]
  },
  {
   "cell_type": "code",
   "execution_count": 20,
   "metadata": {},
   "outputs": [
    {
     "name": "stdout",
     "output_type": "stream",
     "text": [
      "\u001b[2;48;2;255;255;255mTrue Label = anxiety\n",
      "Predicted Label = anxiety\n",
      "\u001b[2;48;2;255;245;240mhes \u001b[2;48;2;255;245;240mso \u001b[2;48;2;254;237;229mfucking \u001b[2;48;2;255;245;240mcool \u001b[2;48;2;255;245;240mand \u001b[2;48;2;255;245;240mwell \u001b[2;48;2;255;245;240mrespected \u001b[2;48;2;255;245;240m. \u001b[2;48;2;254;244;239meverybody \u001b[2;48;2;255;245;240mloves \u001b[2;48;2;255;245;240mhim \u001b[2;48;2;255;245;240mand \u001b[2;48;2;254;241;234mhes \u001b[2;48;2;254;243;238msuper \u001b[2;48;2;254;243;238mpopular \u001b[2;48;2;255;245;240m. \u001b[2;48;2;254;244;239mim \u001b[2;48;2;255;245;240ma \u001b[2;48;2;255;245;240mnobody \u001b[2;48;2;255;245;240m. \u001b[2;48;2;254;244;239mi \u001b[2;48;2;252;168;139malready \u001b[2;48;2;255;245;240mhave \u001b[2;48;2;254;244;239msevere \u001b[2;48;2;254;244;239manxiety \u001b[2;48;2;255;245;240m. \u001b[2;48;2;254;232;222mhe \u001b[2;48;2;251;112;80mbrings \n",
      "\n",
      "\u001b[2;48;2;255;255;255mTrue Label = anxiety\n",
      "Predicted Label = anxiety\n",
      "\u001b[2;48;2;255;245;240mi \u001b[2;48;2;255;245;240mweirdly \u001b[2;48;2;255;245;240mget \u001b[2;48;2;255;245;240mreally \u001b[2;48;2;254;237;228manxious \u001b[2;48;2;254;239;232mevery \u001b[2;48;2;255;245;240mtime \u001b[2;48;2;254;241;235mi \u001b[2;48;2;254;241;234mstart \u001b[2;48;2;254;241;235mon \u001b[2;48;2;254;242;236mhomework \u001b[2;48;2;254;243;238mfor \u001b[2;48;2;254;236;227many \u001b[2;48;2;254;244;239mof \u001b[2;48;2;254;235;225mmy \u001b[2;48;2;254;240;233mclasses \u001b[2;48;2;254;235;226m. \u001b[2;48;2;254;237;228mcan \u001b[2;48;2;254;239;232manyone \u001b[2;48;2;254;237;228mgive \u001b[2;48;2;254;244;239mme \u001b[2;48;2;255;245;240ma \u001b[2;48;2;254;244;239msuggestion \u001b[2;48;2;254;240;233mon \u001b[2;48;2;255;245;240mcalming \u001b[2;48;2;254;227;215mdown \u001b[2;48;2;252;163;134m? \n",
      "\n",
      "\u001b[2;48;2;255;255;255mTrue Label = anxiety\n",
      "Predicted Label = addiction\n",
      "\u001b[2;48;2;255;245;240mi \u001b[2;48;2;254;244;239mm \u001b[2;48;2;255;245;240mstarting \u001b[2;48;2;254;243;238mit \u001b[2;48;2;255;245;240mtomorrow \u001b[2;48;2;254;243;237mat \u001b[2;48;2;254;243;238m5mg \u001b[2;48;2;255;245;240mtwice \u001b[2;48;2;254;243;238ma \u001b[2;48;2;254;244;239mday \u001b[2;48;2;254;241;235mand \u001b[2;48;2;255;245;240mwanted \u001b[2;48;2;254;242;236mto \u001b[2;48;2;254;242;236mknow \u001b[2;48;2;254;243;238mhow \u001b[2;48;2;255;245;240mwell \u001b[2;48;2;254;241;235mit \u001b[2;48;2;255;245;240mworks \u001b[2;48;2;254;243;237mand \u001b[2;48;2;254;240;233mside \u001b[2;48;2;253;208;189meffects \u001b[2;48;2;254;233;223m. \u001b[2;48;2;245;84;60mthanks \n",
      "\n",
      "\u001b[2;48;2;255;255;255mTrue Label = anxiety\n",
      "Predicted Label = anxiety\n",
      "\u001b[2;48;2;255;245;240mmy \u001b[2;48;2;255;245;240mmom \u001b[2;48;2;255;245;240mgot \u001b[2;48;2;255;245;240mher \u001b[2;48;2;255;245;240mtaxes \u001b[2;48;2;255;245;240mand \u001b[2;48;2;255;245;240mshe \u001b[2;48;2;255;245;240minsisted \u001b[2;48;2;255;245;240mon \u001b[2;48;2;255;245;240mpaying \u001b[2;48;2;255;245;240mme \u001b[2;48;2;255;245;240mback \u001b[2;48;2;255;245;240mfor \u001b[2;48;2;255;245;240mthe \u001b[2;48;2;255;245;240mfurnace \u001b[2;48;2;255;245;240mi \u001b[2;48;2;255;245;240mlent \u001b[2;48;2;255;245;240mher \u001b[2;48;2;255;245;240mmoney \u001b[2;48;2;255;245;240mfor \u001b[2;48;2;255;245;240myears \u001b[2;48;2;255;245;240mago \u001b[2;48;2;255;245;240m. \u001b[2;48;2;255;245;240m. \u001b[2;48;2;255;245;240mshe \u001b[2;48;2;255;245;240mcut \u001b[2;48;2;255;245;240mme \u001b[2;48;2;255;245;240ma \u001b[2;48;2;255;245;240mcheck \u001b[2;48;2;255;245;240mand \u001b[2;48;2;255;245;240mi \u001b[2;48;2;255;245;240mhad \u001b[2;48;2;255;245;240ma \u001b[2;48;2;255;245;240mpanic \u001b[2;48;2;254;242;236mattack \u001b[2;48;2;254;242;236mcause \u001b[2;48;2;254;243;238mmy \u001b[2;48;2;254;243;238mbrain \u001b[2;48;2;254;243;238mtells \u001b[2;48;2;255;245;240mme \u001b[2;48;2;254;239;232mif \u001b[2;48;2;254;241;235mshe \u001b[2;48;2;254;231;221mowes \u001b[2;48;2;255;245;240mme \u001b[2;48;2;255;245;240mmoney \u001b[2;48;2;254;242;236mshe \u001b[2;48;2;254;236;227mwont \u001b[2;48;2;254;243;237mdie \u001b[2;48;2;254;243;238m. \u001b[2;48;2;255;245;240m. \u001b[2;48;2;254;243;238m. \u001b[2;48;2;254;243;238m? \u001b[2;48;2;254;240;233mi \u001b[2;48;2;254;243;238mhate \u001b[2;48;2;255;245;240mthat \u001b[2;48;2;255;245;240mmy \u001b[2;48;2;255;245;240mbrain \u001b[2;48;2;255;245;240mthinks \u001b[2;48;2;255;245;240mlike \u001b[2;48;2;255;245;240ma \u001b[2;48;2;254;242;236mchild \u001b[2;48;2;254;243;238mmost \u001b[2;48;2;254;240;233mof \u001b[2;48;2;254;236;227mthe \u001b[2;48;2;254;235;225mtime \u001b[2;48;2;254;243;237m. \u001b[2;48;2;254;242;236m. \u001b[2;48;2;254;241;235m.im \u001b[2;48;2;254;243;237m33 \u001b[2;48;2;254;237;229mand \u001b[2;48;2;255;245;240mim \u001b[2;48;2;255;245;240mterrified \u001b[2;48;2;255;245;240mmy \u001b[2;48;2;254;242;236mmom \u001b[2;48;2;253;223;209mis \u001b[2;48;2;254;241;234mgoing \u001b[2;48;2;254;235;225mto \u001b[2;48;2;254;241;235mdie \u001b[2;48;2;255;245;240mbecause \u001b[2;48;2;255;245;240mshe \u001b[2;48;2;255;245;240mno \u001b[2;48;2;254;244;239mlonger \u001b[2;48;2;254;233;224mowes \n",
      "\n",
      "\u001b[2;48;2;255;255;255mTrue Label = anxiety\n",
      "Predicted Label = anxiety\n",
      "\u001b[2;48;2;255;245;240mevery \u001b[2;48;2;255;245;240mweek \u001b[2;48;2;254;244;239mmostly \u001b[2;48;2;255;245;240mat \u001b[2;48;2;255;245;240mnight \u001b[2;48;2;255;245;240mi \u001b[2;48;2;255;245;240mwill \u001b[2;48;2;255;245;240mhave \u001b[2;48;2;255;245;240mthis \u001b[2;48;2;254;243;238mthing \u001b[2;48;2;255;245;240mwhere \u001b[2;48;2;255;245;240mif \u001b[2;48;2;255;245;240mi \u001b[2;48;2;254;241;234mfeel \u001b[2;48;2;254;243;238many \u001b[2;48;2;255;245;240mbit \u001b[2;48;2;254;244;239mnauseous \u001b[2;48;2;255;245;240mor \u001b[2;48;2;255;245;240mnot \u001b[2;48;2;254;244;239mgood \u001b[2;48;2;254;244;239mi \u001b[2;48;2;254;240;233mwill \u001b[2;48;2;254;237;228mfear \u001b[2;48;2;254;242;236mthrowing \u001b[2;48;2;255;245;240mup \u001b[2;48;2;254;243;237mso \u001b[2;48;2;254;244;239mmuch \u001b[2;48;2;255;245;240mthat \u001b[2;48;2;254;244;239mi \u001b[2;48;2;254;239;232mwill \u001b[2;48;2;254;225;212mspiral \u001b[2;48;2;254;241;235minto \u001b[2;48;2;254;238;230mfeeling \u001b[2;48;2;254;236;227meven \u001b[2;48;2;254;237;229mmore \u001b[2;48;2;254;241;234mnauseous \u001b[2;48;2;254;243;238mand \u001b[2;48;2;254;242;236mso \u001b[2;48;2;254;243;237mon \u001b[2;48;2;254;242;236m. \u001b[2;48;2;254;241;235mhow \u001b[2;48;2;254;242;236mdo \u001b[2;48;2;254;241;235mi \u001b[2;48;2;254;243;237mbreak \u001b[2;48;2;254;244;239mout \u001b[2;48;2;254;243;237mof \u001b[2;48;2;254;232;222mthis \u001b[2;48;2;252;193;169m? \n",
      "\n"
     ]
    }
   ],
   "source": [
    "my_cmap = plt.cm.get_cmap(name='Reds')\n",
    "\n",
    "for i in range(5):\n",
    "    op_txt = ''\n",
    "    true_label = data[i]['label']\n",
    "    pred_label = data[i]['prediction']\n",
    "    tokens = split(' ', data[i]['text_tokens'])\n",
    "    attn_weights = list(data[i]['attention_weights'][0][0])\n",
    "    for word_indx, word in enumerate(tokens):\n",
    "        # TODO! Early stopping because of index mismatch described above.\n",
    "        if word_indx >= len(tokens) or word_indx >= len(attn_weights):  \n",
    "            continue\n",
    "        r, g, b = turn_attn_weight_into_color(attn_weights[word_indx], my_cmap)\n",
    "        op_txt += get_word_with_rgb(word, r, g, b) + ' '\n",
    "    # Note that we have to explicitly set the normal background to plain ol' white\n",
    "    print(\"\\x1b[2;48;2;255;255;255mTrue Label = {}\\nPredicted Label = {}\".format(true_label, pred_label))\n",
    "    print(op_txt + '\\n')"
   ]
  }
 ],
 "metadata": {
  "kernelspec": {
   "display_name": "Python 3",
   "language": "python",
   "name": "python3"
  },
  "language_info": {
   "codemirror_mode": {
    "name": "ipython",
    "version": 3
   },
   "file_extension": ".py",
   "mimetype": "text/x-python",
   "name": "python",
   "nbconvert_exporter": "python",
   "pygments_lexer": "ipython3",
   "version": "3.6.4"
  }
 },
 "nbformat": 4,
 "nbformat_minor": 2
}
